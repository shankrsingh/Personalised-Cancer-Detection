{
 "cells": [
  {
   "cell_type": "code",
   "execution_count": 146,
   "metadata": {
    "colab": {},
    "colab_type": "code",
    "id": "k23TZA2-jAGn"
   },
   "outputs": [],
   "source": [
    "import numpy as np\n",
    "import matplotlib.pyplot as plt\n",
    "import pandas as pd\n",
    "import re\n",
    "from sklearn.model_selection import train_test_split,GridSearchCV,cross_val_predict,StratifiedKFold\n",
    "from sklearn.linear_model import LogisticRegression\n",
    "from sklearn.metrics import log_loss, accuracy_score\n",
    "from sklearn.feature_extraction.text import CountVectorizer,TfidfVectorizer\n",
    "from sklearn.linear_model import SGDClassifier\n",
    "from sklearn.calibration import CalibratedClassifierCV\n",
    "import nltk\n",
    "from nltk.corpus import stopwords\n",
    "from nltk.tokenize import word_tokenize\n",
    "import time\n",
    "from scikitplot.metrics import plot_confusion_matrix\n",
    "from sklearn.decomposition import TruncatedSVD\n",
    "from sklearn.ensemble import RandomForestClassifier\n",
    "from gensim.models import Word2Vec\n",
    "from gensim.models import KeyedVectors\n",
    "import os\n",
    "from tqdm import tqdm\n",
    "from scipy.sparse import hstack"
   ]
  },
  {
   "cell_type": "code",
   "execution_count": 147,
   "metadata": {
    "colab": {},
    "colab_type": "code",
    "id": "fRoGdwBwjAGq"
   },
   "outputs": [],
   "source": [
    "import warnings\n",
    "warnings.filterwarnings(\"ignore\")"
   ]
  },
  {
   "cell_type": "code",
   "execution_count": 148,
   "metadata": {
    "colab": {},
    "colab_type": "code",
    "id": "LQNiMSEZjAGt"
   },
   "outputs": [],
   "source": [
    "training_textdf=pd.read_csv('training_text',sep='\\|\\|',names=['ID','text'],skiprows=1,engine='python')\n",
    "training_variantsdf=pd.read_csv('training_variants')"
   ]
  },
  {
   "cell_type": "code",
   "execution_count": 149,
   "metadata": {
    "colab": {},
    "colab_type": "code",
    "id": "ktKBW_HEjAGv"
   },
   "outputs": [],
   "source": [
    "# loading stop words from nltk library\n",
    "stop_words = set(stopwords.words('english'))\n",
    "\n",
    "\n",
    "def nlp_preprocessing(total_text,idx):\n",
    "    if type(total_text) is not int:\n",
    "        string = \"\"\n",
    "        # replace every special char with space\n",
    "        total_text = re.sub('[^a-zA-Z0-9\\n]', ' ', total_text)\n",
    "        # replace multiple spaces with single space\n",
    "        total_text = re.sub('\\s+',' ', total_text)\n",
    "        # converting all the chars into lower-case.\n",
    "        total_text = total_text.lower()\n",
    "        \n",
    "        for word in total_text.split():\n",
    "        # if the word is a not a stop word then retain that word from the data\n",
    "            if not word in stop_words:\n",
    "                string += word + \" \"\n",
    "        \n",
    "        training_textdf['text'][idx] = string\n"
   ]
  },
  {
   "cell_type": "code",
   "execution_count": 150,
   "metadata": {
    "colab": {
     "base_uri": "https://localhost:8080/",
     "height": 118
    },
    "colab_type": "code",
    "id": "x35NBnbqjAGx",
    "outputId": "05e94969-016d-4a62-9fb7-c350014bf46c"
   },
   "outputs": [
    {
     "name": "stdout",
     "output_type": "stream",
     "text": [
      "there is no text description for id: 1109\n",
      "there is no text description for id: 1277\n",
      "there is no text description for id: 1407\n",
      "there is no text description for id: 1639\n",
      "there is no text description for id: 2755\n",
      "Time took for preprocessing the text : 173.81256345288602 seconds\n"
     ]
    }
   ],
   "source": [
    "#text processing stage.\n",
    "start_time = time.clock()\n",
    "for index, row in training_textdf.iterrows():\n",
    "    if type(row['text']) is str:\n",
    "        nlp_preprocessing(row['text'], index)\n",
    "    else:\n",
    "        print(\"there is no text description for id:\",index)\n",
    "print('Time took for preprocessing the text :',time.clock() - start_time, \"seconds\")\n",
    "training_textdf.to_csv('trainin_preprocessed.csv')"
   ]
  },
  {
   "cell_type": "code",
   "execution_count": 151,
   "metadata": {
    "colab": {
     "base_uri": "https://localhost:8080/",
     "height": 195
    },
    "colab_type": "code",
    "id": "wVBoZqokjAG3",
    "outputId": "31adc04f-5b4e-4bb1-f60c-fa8c2b707b18"
   },
   "outputs": [
    {
     "data": {
      "text/html": [
       "<div>\n",
       "<style scoped>\n",
       "    .dataframe tbody tr th:only-of-type {\n",
       "        vertical-align: middle;\n",
       "    }\n",
       "\n",
       "    .dataframe tbody tr th {\n",
       "        vertical-align: top;\n",
       "    }\n",
       "\n",
       "    .dataframe thead th {\n",
       "        text-align: right;\n",
       "    }\n",
       "</style>\n",
       "<table border=\"1\" class=\"dataframe\">\n",
       "  <thead>\n",
       "    <tr style=\"text-align: right;\">\n",
       "      <th></th>\n",
       "      <th>ID</th>\n",
       "      <th>text</th>\n",
       "    </tr>\n",
       "  </thead>\n",
       "  <tbody>\n",
       "    <tr>\n",
       "      <th>0</th>\n",
       "      <td>0</td>\n",
       "      <td>cyclin dependent kinases cdks regulate variety...</td>\n",
       "    </tr>\n",
       "    <tr>\n",
       "      <th>1</th>\n",
       "      <td>1</td>\n",
       "      <td>abstract background non small cell lung cancer...</td>\n",
       "    </tr>\n",
       "    <tr>\n",
       "      <th>2</th>\n",
       "      <td>2</td>\n",
       "      <td>abstract background non small cell lung cancer...</td>\n",
       "    </tr>\n",
       "    <tr>\n",
       "      <th>3</th>\n",
       "      <td>3</td>\n",
       "      <td>recent evidence demonstrated acquired uniparen...</td>\n",
       "    </tr>\n",
       "    <tr>\n",
       "      <th>4</th>\n",
       "      <td>4</td>\n",
       "      <td>oncogenic mutations monomeric casitas b lineag...</td>\n",
       "    </tr>\n",
       "  </tbody>\n",
       "</table>\n",
       "</div>"
      ],
      "text/plain": [
       "   ID                                               text\n",
       "0   0  cyclin dependent kinases cdks regulate variety...\n",
       "1   1  abstract background non small cell lung cancer...\n",
       "2   2  abstract background non small cell lung cancer...\n",
       "3   3  recent evidence demonstrated acquired uniparen...\n",
       "4   4  oncogenic mutations monomeric casitas b lineag..."
      ]
     },
     "execution_count": 151,
     "metadata": {},
     "output_type": "execute_result"
    }
   ],
   "source": [
    "training_textdf.head()"
   ]
  },
  {
   "cell_type": "code",
   "execution_count": 152,
   "metadata": {
    "colab": {
     "base_uri": "https://localhost:8080/",
     "height": 195
    },
    "colab_type": "code",
    "id": "6xcqFDTqjAG6",
    "outputId": "9af3780e-354a-42d4-962b-4f17d5492ea4"
   },
   "outputs": [
    {
     "data": {
      "text/html": [
       "<div>\n",
       "<style scoped>\n",
       "    .dataframe tbody tr th:only-of-type {\n",
       "        vertical-align: middle;\n",
       "    }\n",
       "\n",
       "    .dataframe tbody tr th {\n",
       "        vertical-align: top;\n",
       "    }\n",
       "\n",
       "    .dataframe thead th {\n",
       "        text-align: right;\n",
       "    }\n",
       "</style>\n",
       "<table border=\"1\" class=\"dataframe\">\n",
       "  <thead>\n",
       "    <tr style=\"text-align: right;\">\n",
       "      <th></th>\n",
       "      <th>ID</th>\n",
       "      <th>Gene</th>\n",
       "      <th>Variation</th>\n",
       "      <th>Class</th>\n",
       "      <th>text</th>\n",
       "    </tr>\n",
       "  </thead>\n",
       "  <tbody>\n",
       "    <tr>\n",
       "      <th>0</th>\n",
       "      <td>0</td>\n",
       "      <td>FAM58A</td>\n",
       "      <td>Truncating Mutations</td>\n",
       "      <td>1</td>\n",
       "      <td>cyclin dependent kinases cdks regulate variety...</td>\n",
       "    </tr>\n",
       "    <tr>\n",
       "      <th>1</th>\n",
       "      <td>1</td>\n",
       "      <td>CBL</td>\n",
       "      <td>W802*</td>\n",
       "      <td>2</td>\n",
       "      <td>abstract background non small cell lung cancer...</td>\n",
       "    </tr>\n",
       "    <tr>\n",
       "      <th>2</th>\n",
       "      <td>2</td>\n",
       "      <td>CBL</td>\n",
       "      <td>Q249E</td>\n",
       "      <td>2</td>\n",
       "      <td>abstract background non small cell lung cancer...</td>\n",
       "    </tr>\n",
       "    <tr>\n",
       "      <th>3</th>\n",
       "      <td>3</td>\n",
       "      <td>CBL</td>\n",
       "      <td>N454D</td>\n",
       "      <td>3</td>\n",
       "      <td>recent evidence demonstrated acquired uniparen...</td>\n",
       "    </tr>\n",
       "    <tr>\n",
       "      <th>4</th>\n",
       "      <td>4</td>\n",
       "      <td>CBL</td>\n",
       "      <td>L399V</td>\n",
       "      <td>4</td>\n",
       "      <td>oncogenic mutations monomeric casitas b lineag...</td>\n",
       "    </tr>\n",
       "  </tbody>\n",
       "</table>\n",
       "</div>"
      ],
      "text/plain": [
       "   ID    Gene             Variation  Class  \\\n",
       "0   0  FAM58A  Truncating Mutations      1   \n",
       "1   1     CBL                 W802*      2   \n",
       "2   2     CBL                 Q249E      2   \n",
       "3   3     CBL                 N454D      3   \n",
       "4   4     CBL                 L399V      4   \n",
       "\n",
       "                                                text  \n",
       "0  cyclin dependent kinases cdks regulate variety...  \n",
       "1  abstract background non small cell lung cancer...  \n",
       "2  abstract background non small cell lung cancer...  \n",
       "3  recent evidence demonstrated acquired uniparen...  \n",
       "4  oncogenic mutations monomeric casitas b lineag...  "
      ]
     },
     "execution_count": 152,
     "metadata": {},
     "output_type": "execute_result"
    }
   ],
   "source": [
    "#merging\n",
    "\n",
    "resultdf = pd.merge(training_variantsdf, training_textdf,on='ID', how='left')\n",
    "resultdf.head()"
   ]
  },
  {
   "cell_type": "code",
   "execution_count": 153,
   "metadata": {
    "colab": {
     "base_uri": "https://localhost:8080/",
     "height": 34
    },
    "colab_type": "code",
    "id": "NrJkZfSQjAG9",
    "outputId": "ca1ba870-1476-4534-81e2-ea6cbaf45c1a"
   },
   "outputs": [
    {
     "data": {
      "text/plain": [
       "0"
      ]
     },
     "execution_count": 153,
     "metadata": {},
     "output_type": "execute_result"
    }
   ],
   "source": [
    "\n",
    "resultdf = resultdf.dropna(how='any',axis=0) \n",
    "resultdf['text'].isnull().sum()"
   ]
  },
  {
   "cell_type": "code",
   "execution_count": 154,
   "metadata": {
    "colab": {
     "base_uri": "https://localhost:8080/",
     "height": 378
    },
    "colab_type": "code",
    "id": "ks372WzmjAHC",
    "outputId": "d3c98830-7d9e-4b14-f937-016cbed6bffc"
   },
   "outputs": [
    {
     "data": {
      "text/html": [
       "<div>\n",
       "<style scoped>\n",
       "    .dataframe tbody tr th:only-of-type {\n",
       "        vertical-align: middle;\n",
       "    }\n",
       "\n",
       "    .dataframe tbody tr th {\n",
       "        vertical-align: top;\n",
       "    }\n",
       "\n",
       "    .dataframe thead th {\n",
       "        text-align: right;\n",
       "    }\n",
       "</style>\n",
       "<table border=\"1\" class=\"dataframe\">\n",
       "  <thead>\n",
       "    <tr style=\"text-align: right;\">\n",
       "      <th></th>\n",
       "      <th>ID</th>\n",
       "      <th>Gene</th>\n",
       "      <th>Variation</th>\n",
       "      <th>Class</th>\n",
       "      <th>text</th>\n",
       "    </tr>\n",
       "  </thead>\n",
       "  <tbody>\n",
       "    <tr>\n",
       "      <th>count</th>\n",
       "      <td>3316.000000</td>\n",
       "      <td>3316</td>\n",
       "      <td>3316</td>\n",
       "      <td>3316.000000</td>\n",
       "      <td>3316</td>\n",
       "    </tr>\n",
       "    <tr>\n",
       "      <th>unique</th>\n",
       "      <td>NaN</td>\n",
       "      <td>262</td>\n",
       "      <td>2993</td>\n",
       "      <td>NaN</td>\n",
       "      <td>1920</td>\n",
       "    </tr>\n",
       "    <tr>\n",
       "      <th>top</th>\n",
       "      <td>NaN</td>\n",
       "      <td>BRCA1</td>\n",
       "      <td>Truncating Mutations</td>\n",
       "      <td>NaN</td>\n",
       "      <td>pten phosphatase tensin homolog phosphatase un...</td>\n",
       "    </tr>\n",
       "    <tr>\n",
       "      <th>freq</th>\n",
       "      <td>NaN</td>\n",
       "      <td>264</td>\n",
       "      <td>92</td>\n",
       "      <td>NaN</td>\n",
       "      <td>53</td>\n",
       "    </tr>\n",
       "    <tr>\n",
       "      <th>mean</th>\n",
       "      <td>1660.034077</td>\n",
       "      <td>NaN</td>\n",
       "      <td>NaN</td>\n",
       "      <td>4.366104</td>\n",
       "      <td>NaN</td>\n",
       "    </tr>\n",
       "    <tr>\n",
       "      <th>std</th>\n",
       "      <td>959.287860</td>\n",
       "      <td>NaN</td>\n",
       "      <td>NaN</td>\n",
       "      <td>2.309241</td>\n",
       "      <td>NaN</td>\n",
       "    </tr>\n",
       "    <tr>\n",
       "      <th>min</th>\n",
       "      <td>0.000000</td>\n",
       "      <td>NaN</td>\n",
       "      <td>NaN</td>\n",
       "      <td>1.000000</td>\n",
       "      <td>NaN</td>\n",
       "    </tr>\n",
       "    <tr>\n",
       "      <th>25%</th>\n",
       "      <td>828.750000</td>\n",
       "      <td>NaN</td>\n",
       "      <td>NaN</td>\n",
       "      <td>2.000000</td>\n",
       "      <td>NaN</td>\n",
       "    </tr>\n",
       "    <tr>\n",
       "      <th>50%</th>\n",
       "      <td>1661.500000</td>\n",
       "      <td>NaN</td>\n",
       "      <td>NaN</td>\n",
       "      <td>4.000000</td>\n",
       "      <td>NaN</td>\n",
       "    </tr>\n",
       "    <tr>\n",
       "      <th>75%</th>\n",
       "      <td>2490.250000</td>\n",
       "      <td>NaN</td>\n",
       "      <td>NaN</td>\n",
       "      <td>7.000000</td>\n",
       "      <td>NaN</td>\n",
       "    </tr>\n",
       "    <tr>\n",
       "      <th>max</th>\n",
       "      <td>3320.000000</td>\n",
       "      <td>NaN</td>\n",
       "      <td>NaN</td>\n",
       "      <td>9.000000</td>\n",
       "      <td>NaN</td>\n",
       "    </tr>\n",
       "  </tbody>\n",
       "</table>\n",
       "</div>"
      ],
      "text/plain": [
       "                 ID   Gene             Variation        Class  \\\n",
       "count   3316.000000   3316                  3316  3316.000000   \n",
       "unique          NaN    262                  2993          NaN   \n",
       "top             NaN  BRCA1  Truncating Mutations          NaN   \n",
       "freq            NaN    264                    92          NaN   \n",
       "mean    1660.034077    NaN                   NaN     4.366104   \n",
       "std      959.287860    NaN                   NaN     2.309241   \n",
       "min        0.000000    NaN                   NaN     1.000000   \n",
       "25%      828.750000    NaN                   NaN     2.000000   \n",
       "50%     1661.500000    NaN                   NaN     4.000000   \n",
       "75%     2490.250000    NaN                   NaN     7.000000   \n",
       "max     3320.000000    NaN                   NaN     9.000000   \n",
       "\n",
       "                                                     text  \n",
       "count                                                3316  \n",
       "unique                                               1920  \n",
       "top     pten phosphatase tensin homolog phosphatase un...  \n",
       "freq                                                   53  \n",
       "mean                                                  NaN  \n",
       "std                                                   NaN  \n",
       "min                                                   NaN  \n",
       "25%                                                   NaN  \n",
       "50%                                                   NaN  \n",
       "75%                                                   NaN  \n",
       "max                                                   NaN  "
      ]
     },
     "execution_count": 154,
     "metadata": {},
     "output_type": "execute_result"
    }
   ],
   "source": [
    "resultdf.describe(include='all')"
   ]
  },
  {
   "cell_type": "code",
   "execution_count": 160,
   "metadata": {
    "colab": {
     "base_uri": "https://localhost:8080/",
     "height": 34
    },
    "colab_type": "code",
    "id": "OgnfeWMcjAHG",
    "outputId": "7e0c4725-48cb-43c2-bba7-e01ae4ec2b6d"
   },
   "outputs": [
    {
     "name": "stdout",
     "output_type": "stream",
     "text": [
      "(1989, 5) (1989,) (663, 5) (663,) (664, 5) (664,)\n"
     ]
    }
   ],
   "source": [
    "# Train test split\n",
    "y_true = resultdf['Class'].values\n",
    "resultdf.Gene      = resultdf.Gene.str.replace('\\s+', '_')\n",
    "resultdf.Variation = resultdf.Variation.str.replace('\\s+', '_')\n",
    "\n",
    "xtrain,xtestdf,ytrain,ytestdf=train_test_split(resultdf,y_true,stratify=y_true,test_size=0.4)\n",
    "xtest,xcv,ytest,ycv=train_test_split(xtestdf,ytestdf,stratify=ytestdf,test_size=0.5)\n",
    " \n",
    "print(xtrain.shape,ytrain.shape,xtest.shape,ytest.shape,xcv.shape,ycv.shape)"
   ]
  },
  {
   "cell_type": "code",
   "execution_count": 161,
   "metadata": {
    "colab": {
     "base_uri": "https://localhost:8080/",
     "height": 297
    },
    "colab_type": "code",
    "id": "Df3ccjLqjAHJ",
    "outputId": "9fab58d8-f6c4-4101-d938-c079935db771"
   },
   "outputs": [
    {
     "data": {
      "image/png": "[encoded data removed]",
      "text/plain": [
       "<Figure size 432x288 with 3 Axes>"
      ]
     },
     "metadata": {
      "needs_background": "light"
     },
     "output_type": "display_data"
    }
   ],
   "source": [
    "plt.subplot(311)\n",
    "\n",
    "plt.title('Train Data')\n",
    "xtrain['Class'].value_counts().plot(kind='bar',rot=0)\n",
    "plt.subplot(312)\n",
    "\n",
    "plt.title('Test Data')\n",
    "xtest['Class'].value_counts().plot(kind='bar')\n",
    "plt.subplot(313)\n",
    "\n",
    "plt.title('CV data')\n",
    "xcv['Class'].value_counts().plot(kind='bar')\n",
    "plt.tight_layout()\n",
    "plt.show()\n",
    "\n"
   ]
  },
  {
   "cell_type": "code",
   "execution_count": 162,
   "metadata": {
    "colab": {},
    "colab_type": "code",
    "id": "PBGkrr2djAHP"
   },
   "outputs": [],
   "source": [
    "xtrain[\"text_num_words\"] = xtrain[\"text\"].apply(lambda x: len(str(x).split()) )\n"
   ]
  },
  {
   "cell_type": "code",
   "execution_count": 158,
   "metadata": {
    "colab": {},
    "colab_type": "code",
    "id": "pvAukG3bgcd1"
   },
   "outputs": [],
   "source": [
    "#xtrain.sort_values([\"ID\"], axis=0,ascending=[True], inplace=True) "
   ]
  },
  {
   "cell_type": "code",
   "execution_count": 163,
   "metadata": {
    "colab": {
     "base_uri": "https://localhost:8080/",
     "height": 195
    },
    "colab_type": "code",
    "id": "an4Bp2zXglzh",
    "outputId": "ed786f56-1cbb-4a00-aec8-b98f238db3a5"
   },
   "outputs": [
    {
     "data": {
      "text/html": [
       "<div>\n",
       "<style scoped>\n",
       "    .dataframe tbody tr th:only-of-type {\n",
       "        vertical-align: middle;\n",
       "    }\n",
       "\n",
       "    .dataframe tbody tr th {\n",
       "        vertical-align: top;\n",
       "    }\n",
       "\n",
       "    .dataframe thead th {\n",
       "        text-align: right;\n",
       "    }\n",
       "</style>\n",
       "<table border=\"1\" class=\"dataframe\">\n",
       "  <thead>\n",
       "    <tr style=\"text-align: right;\">\n",
       "      <th></th>\n",
       "      <th>ID</th>\n",
       "      <th>Gene</th>\n",
       "      <th>Variation</th>\n",
       "      <th>Class</th>\n",
       "      <th>text</th>\n",
       "      <th>text_num_words</th>\n",
       "    </tr>\n",
       "  </thead>\n",
       "  <tbody>\n",
       "    <tr>\n",
       "      <th>3133</th>\n",
       "      <td>3133</td>\n",
       "      <td>KRAS</td>\n",
       "      <td>A146T</td>\n",
       "      <td>7</td>\n",
       "      <td>transforming mutations nras kras thought play ...</td>\n",
       "      <td>11035</td>\n",
       "    </tr>\n",
       "    <tr>\n",
       "      <th>1570</th>\n",
       "      <td>1570</td>\n",
       "      <td>ALK</td>\n",
       "      <td>H694R</td>\n",
       "      <td>7</td>\n",
       "      <td>oncogenic property anaplastic lymphoma kinase ...</td>\n",
       "      <td>4825</td>\n",
       "    </tr>\n",
       "    <tr>\n",
       "      <th>3258</th>\n",
       "      <td>3258</td>\n",
       "      <td>RET</td>\n",
       "      <td>A883T</td>\n",
       "      <td>7</td>\n",
       "      <td>ret protooncogene mutations responsible multip...</td>\n",
       "      <td>5719</td>\n",
       "    </tr>\n",
       "    <tr>\n",
       "      <th>231</th>\n",
       "      <td>231</td>\n",
       "      <td>EGFR</td>\n",
       "      <td>E746_A750delinsQ</td>\n",
       "      <td>7</td>\n",
       "      <td>non small cell lung cancer leading cause death...</td>\n",
       "      <td>11254</td>\n",
       "    </tr>\n",
       "    <tr>\n",
       "      <th>468</th>\n",
       "      <td>468</td>\n",
       "      <td>TP53</td>\n",
       "      <td>K291Q</td>\n",
       "      <td>1</td>\n",
       "      <td>tumor suppressor p53 dependent apoptosis thoug...</td>\n",
       "      <td>6582</td>\n",
       "    </tr>\n",
       "  </tbody>\n",
       "</table>\n",
       "</div>"
      ],
      "text/plain": [
       "        ID  Gene         Variation  Class  \\\n",
       "3133  3133  KRAS             A146T      7   \n",
       "1570  1570   ALK             H694R      7   \n",
       "3258  3258   RET             A883T      7   \n",
       "231    231  EGFR  E746_A750delinsQ      7   \n",
       "468    468  TP53             K291Q      1   \n",
       "\n",
       "                                                   text  text_num_words  \n",
       "3133  transforming mutations nras kras thought play ...           11035  \n",
       "1570  oncogenic property anaplastic lymphoma kinase ...            4825  \n",
       "3258  ret protooncogene mutations responsible multip...            5719  \n",
       "231   non small cell lung cancer leading cause death...           11254  \n",
       "468   tumor suppressor p53 dependent apoptosis thoug...            6582  "
      ]
     },
     "execution_count": 163,
     "metadata": {},
     "output_type": "execute_result"
    }
   ],
   "source": [
    "xtrain.head()"
   ]
  },
  {
   "cell_type": "code",
   "execution_count": 167,
   "metadata": {
    "colab": {},
    "colab_type": "code",
    "id": "ZHBEoljeJAuJ"
   },
   "outputs": [
    {
     "name": "stdout",
     "output_type": "stream",
     "text": [
      "Unique genes : 222\n"
     ]
    },
    {
     "data": {
      "image/png": "[encoded data removed]",
      "text/plain": [
       "<Figure size 432x288 with 1 Axes>"
      ]
     },
     "metadata": {
      "needs_background": "light"
     },
     "output_type": "display_data"
    }
   ],
   "source": [
    "g=xtrain['Gene'].value_counts()\n",
    "print('Unique genes :',len(g))\n",
    "s=sum(g.values)\n",
    "h=g.values/s\n",
    "plt.plot(h,label='Gene')\n",
    "plt.xlabel('Frequency')\n",
    "plt.ylabel('Ratio')\n",
    "plt.grid()\n",
    "plt.legend()\n",
    "plt.show()"
   ]
  },
  {
   "cell_type": "markdown",
   "metadata": {
    "colab_type": "text",
    "id": "HYDPBMKSl2R7"
   },
   "source": [
    "# **Helper functions**  for Models"
   ]
  },
  {
   "cell_type": "code",
   "execution_count": 338,
   "metadata": {
    "colab": {},
    "colab_type": "code",
    "id": "lsFoJNfoPtSX"
   },
   "outputs": [],
   "source": [
    "def plot_hyperprm(log_error,alpha,data,cv=0,clf=None,doubleparam=None):\n",
    "    xtrain=data[0]\n",
    "    xtest=data[1]\n",
    "    ytrain=data[2]\n",
    "    ytest=data[3]\n",
    "    if(cv==1):\n",
    "      xcv=data[4]\n",
    "      ycv=data[5]\n",
    "    \n",
    "    #[xtrain,xtest,ytrain,ytest,xcv,ycv]\n",
    "    if doubleparam is not None:\n",
    "        pass\n",
    "    else:\n",
    "        \n",
    "        fig, ax = plt.subplots()\n",
    "        ax.plot(alpha,log_error,c='g')\n",
    "        plt.grid()\n",
    "        plt.title(\"Cross Validation Error for each alpha\")\n",
    "        plt.xlabel(\"Alpha i's\")\n",
    "        plt.ylabel(\"Error measure\")\n",
    "        plt.show()\n",
    "    \n",
    "    \n",
    "    best_alpha = np.argmin(log_error)\n",
    "    #print('Best log error and alpha',min(log_error),best_alpha)\n",
    "    if clf is None:\n",
    "      clf = SGDClassifier(alpha=alpha[best_alpha], loss='log', random_state=42,penalty='l2')\n",
    "    #print(type(clf)) \n",
    "    clf.fit(xtrain, ytrain)\n",
    "    c_clf = CalibratedClassifierCV(clf, method=\"sigmoid\")\n",
    "    c_clf.fit(xtrain, ytrain)\n",
    "    \n",
    "    #Traindata\n",
    "    predict_y = c_clf.predict_proba(xtrain)\n",
    "    ltrain=log_loss(ytrain, predict_y, labels=clf.classes_)\n",
    "    print('For values of best alpha = ', alpha[best_alpha], \"The train log loss is:\",ltrain)\n",
    "    \n",
    "    #CVdata\n",
    "    if(cv==1):\n",
    "      predict_y =c_clf.predict_proba(xcv)\n",
    "      lcv=log_loss(ycv,predict_y, labels=clf.classes_)\n",
    "      print('For values of best alpha = ', alpha[best_alpha], \"The CV log loss is:\",lcv)\n",
    "    \n",
    "    #TestData\n",
    "    predict_y =c_clf.predict_proba(xtest)\n",
    "    ltest=log_loss(ytest, predict_y, labels=clf.classes_)\n",
    "    print('For values of best alpha = ', alpha[best_alpha], \"The test log loss is:\",ltest)\n",
    "    \n",
    "    #print(predict_y.shape,len(ytest))\n",
    "    predicted_y =np.argmax(predict_y,axis=1)\n",
    "    print(\"Total number of data points :\", len(predicted_y))\n",
    "    #print('Penalty is ',penal)\n",
    "    #print(len(ytest))\n",
    "    #/yy.shape[0]\n",
    "    pred_y=c_clf.predict(xcv)\n",
    "    \n",
    "    print(\"Number of mis-classified points :\", np.count_nonzero((pred_y-ycv))/ycv.shape[0],'\\n')\n",
    "    plot_confusion_matrix(ycv, pred_y)\n",
    "    "
   ]
  },
  {
   "cell_type": "code",
   "execution_count": 209,
   "metadata": {
    "colab": {},
    "colab_type": "code",
    "id": "BVEjz1UKjDJ9"
   },
   "outputs": [],
   "source": [
    "def model_make(clf,xtrain,ytrain,xcv,ycv,log_error):\n",
    "    clf.fit(xtrain,ytrain)\n",
    "    c_clf=CalibratedClassifierCV(clf)\n",
    "    c_clf.fit(xtrain,ytrain)\n",
    "    pred_y=c_clf.predict_proba(xcv)\n",
    "    logloss=log_loss(ycv,pred_y,labels=clf.classes_)\n",
    "    log_error.append(logloss)\n",
    "    print('Log loss for alpha = \"{}\" is \"{}\"'.format(a,logloss))\n",
    "    return log_error"
   ]
  },
  {
   "cell_type": "code",
   "execution_count": 179,
   "metadata": {
    "colab": {},
    "colab_type": "code",
    "id": "RlpBZEoOpjwp"
   },
   "outputs": [],
   "source": [
    "def analysis(xtrain,xtest,xcv,feat):\n",
    "  \n",
    "  #xtrain[str(feat)]\n",
    "  numtrain=len(xtrain[feat].value_counts())\n",
    "  numtest=xtest[xtest[feat].isin(list(set(xtrain[feat])))].shape[0]\n",
    "  numcv=xcv[xcv[feat].isin(list(set(xtrain[feat])))].shape[0]\n",
    "  print('Total unique {} in xtrain {}'.format(feat,numtrain))\n",
    "  print('{} data in Cv {} out of {}'.format(feat,numcv,xcv.shape[0]))\n",
    "  print('{} data in Test {} out of {}'.format(feat,numtest,xtest.shape[0]))\n",
    "  \n",
    "  "
   ]
  },
  {
   "cell_type": "markdown",
   "metadata": {
    "colab_type": "text",
    "id": "BePMPxDRmEgV"
   },
   "source": [
    "**Logistic Regression with Gene**"
   ]
  },
  {
   "cell_type": "code",
   "execution_count": null,
   "metadata": {},
   "outputs": [],
   "source": [
    "#CreatingCountVect / 1-hot encoder for gene\n",
    "\n",
    "countv=CountVectorizer()\n",
    "onehot_train_gene=countv.fit_transform(xtrain['Gene'])\n",
    "onehot_test_gene=countv.transform(xtest['Gene'])\n",
    "onehot_cv_gene=countv.transform(xcv['Gene'])\n",
    "print(onehot_train_gene.shape,onehot_cv_gene.shape,onehot_test_gene.shape)"
   ]
  },
  {
   "cell_type": "code",
   "execution_count": 334,
   "metadata": {},
   "outputs": [
    {
     "name": "stdout",
     "output_type": "stream",
     "text": [
      "Log loss for alpha = \"0.0001\" is \"1.1808463285554391\"\n",
      "Log loss for alpha = \"0.001\" is \"1.2193166914350488\"\n",
      "Log loss for alpha = \"0.01\" is \"1.338622031977288\"\n",
      "Log loss for alpha = \"0.1\" is \"1.4398239850579646\"\n",
      "Log loss for alpha = \"1\" is \"1.4804383887263317\"\n",
      "Log loss for alpha = \"10\" is \"1.4856109810213578\"\n",
      "Log loss for alpha = \"100\" is \"1.4862691231293166\"\n",
      "Log loss for alpha = \"1000\" is \"1.486399563049505\"\n"
     ]
    },
    {
     "data": {
      "image/png": "[encoded data removed]",
      "text/plain": [
       "<Figure size 432x288 with 1 Axes>"
      ]
     },
     "metadata": {
      "needs_background": "light"
     },
     "output_type": "display_data"
    },
    {
     "name": "stdout",
     "output_type": "stream",
     "text": [
      "For values of best alpha =  0.0001 The train log loss is: 1.0202572360042825\n",
      "For values of best alpha =  0.0001 The CV log loss is: 1.1808463285554391\n",
      "For values of best alpha =  0.0001 The test log loss is: 1.187802106295682\n",
      "(663, 9) 663\n",
      "Total number of data points : 663\n",
      "Number of mis-classified points : 0.45933734939759036 \n",
      "\n",
      "Total unique Gene in xtrain 222\n",
      "Gene data in Cv 641 out of 664\n",
      "Gene data in Test 635 out of 663\n"
     ]
    },
    {
     "data": {
      "image/png": "[encoded data removed]",
      "text/plain": [
       "<Figure size 432x288 with 2 Axes>"
      ]
     },
     "metadata": {
      "needs_background": "light"
     },
     "output_type": "display_data"
    }
   ],
   "source": [
    "alpha=[10**x for x in range(-4,4)]\n",
    "\n",
    "log_error=[]\n",
    "for a in alpha:\n",
    "    clf=SGDClassifier(loss='log',alpha=a,random_state=42)\n",
    "    log_e=model_make(clf,onehot_train_gene,ytrain,onehot_cv_gene,ycv,log_error)\n",
    "\n",
    "\n",
    "plot_hyperprm(log_e,alpha,data=[onehot_train_gene,onehot_test_gene,ytrain,ytest,onehot_cv_gene,ycv],cv=1)\n",
    "analysis(xtrain,xtest,xcv,'Gene')"
   ]
  },
  {
   "cell_type": "markdown",
   "metadata": {
    "colab_type": "text",
    "id": "VbmjVprKmSXN"
   },
   "source": [
    "**Univariate : Variation**"
   ]
  },
  {
   "cell_type": "code",
   "execution_count": 181,
   "metadata": {
    "colab": {
     "base_uri": "https://localhost:8080/",
     "height": 300
    },
    "colab_type": "code",
    "id": "k9r2QYgG84hO",
    "outputId": "e6e02a84-9db3-4a83-e773-f0edb8dae84c"
   },
   "outputs": [
    {
     "name": "stdout",
     "output_type": "stream",
     "text": [
      "Number of unique variations: 1818\n"
     ]
    },
    {
     "data": {
      "image/png": "[encoded data removed]",
      "text/plain": [
       "<Figure size 432x288 with 1 Axes>"
      ]
     },
     "metadata": {
      "needs_background": "light"
     },
     "output_type": "display_data"
    }
   ],
   "source": [
    "uni=xtrain['Variation'].value_counts()\n",
    "print('Number of unique variations:',len(uni))\n",
    "s=sum(uni.values)\n",
    "h=uni.values/s\n",
    "plt.plot(h,label='Variations')\n",
    "plt.legend()\n",
    "plt.xlabel('Frequency')\n",
    "plt.ylabel('Ratio')\n",
    "plt.grid()\n",
    "plt.show()"
   ]
  },
  {
   "cell_type": "code",
   "execution_count": 182,
   "metadata": {
    "colab": {
     "base_uri": "https://localhost:8080/",
     "height": 34
    },
    "colab_type": "code",
    "id": "FDBdabwjjBz2",
    "outputId": "b24fd6d8-806b-4ae6-dc30-042afb6ef973"
   },
   "outputs": [
    {
     "name": "stdout",
     "output_type": "stream",
     "text": [
      "(1989, 1851) (664, 1851) (663, 1851)\n"
     ]
    }
   ],
   "source": [
    "#CreatingCountVect / 1-hot encoder for Variation\n",
    "\n",
    "countv=CountVectorizer()\n",
    "onehot_train_var=countv.fit_transform(xtrain['Variation'])\n",
    "onehot_test_var=countv.transform(xtest['Variation'])\n",
    "onehot_cv_var=countv.transform(xcv['Variation'])\n",
    "print(onehot_train_var.shape,onehot_cv_var.shape,onehot_test_var.shape)"
   ]
  },
  {
   "cell_type": "code",
   "execution_count": 343,
   "metadata": {
    "colab": {
     "base_uri": "https://localhost:8080/",
     "height": 859
    },
    "colab_type": "code",
    "id": "cq2-xx3M95v9",
    "outputId": "d4862303-c8e3-4a77-eb50-792710f941b3"
   },
   "outputs": [
    {
     "name": "stdout",
     "output_type": "stream",
     "text": [
      "Log loss for alpha = \"0.0001\" is \"1.7173538259091148\"\n",
      "Log loss for alpha = \"0.001\" is \"1.7203632626627507\"\n",
      "Log loss for alpha = \"0.01\" is \"1.7378736940287107\"\n",
      "Log loss for alpha = \"0.1\" is \"1.7463952212372853\"\n",
      "Log loss for alpha = \"1\" is \"1.7471417492440418\"\n",
      "Log loss for alpha = \"10\" is \"1.7472042736538955\"\n",
      "Log loss for alpha = \"100\" is \"1.7472113467380697\"\n",
      "Log loss for alpha = \"1000\" is \"1.7487533434543587\"\n"
     ]
    },
    {
     "data": {
      "image/png": "[encoded data removed]",
      "text/plain": [
       "<Figure size 432x288 with 1 Axes>"
      ]
     },
     "metadata": {
      "needs_background": "light"
     },
     "output_type": "display_data"
    },
    {
     "name": "stdout",
     "output_type": "stream",
     "text": [
      "For values of best alpha =  0.0001 The train log loss is: 0.7552240819288899\n",
      "For values of best alpha =  0.0001 The CV log loss is: 1.7173538259091148\n",
      "For values of best alpha =  0.0001 The test log loss is: 1.7086286511233235\n",
      "Total number of data points : 663\n",
      "Number of mis-classified points : 0.6641566265060241 \n",
      "\n",
      "Total unique Variation in xtrain 1818\n",
      "Variation data in Cv 64 out of 664\n",
      "Variation data in Test 81 out of 663\n",
      "Wall time: 1.77 s\n"
     ]
    },
    {
     "data": {
      "image/png": "[encoded data removed]",
      "text/plain": [
       "<Figure size 432x288 with 2 Axes>"
      ]
     },
     "metadata": {
      "needs_background": "light"
     },
     "output_type": "display_data"
    }
   ],
   "source": [
    "%%time\n",
    "#building singular Model for Variation feature\n",
    "alpha=[10**x for x in range(-4,4)]\n",
    "\n",
    "log_error=[]\n",
    "for a in alpha:\n",
    "  clf=SGDClassifier(loss='log',alpha=a,random_state=42)\n",
    "  log_e=model_make(clf,onehot_train_var,ytrain,onehot_cv_var,ycv,log_error)\n",
    "  \n",
    "plot_hyperprm(log_e,alpha,data=[onehot_train_var,onehot_test_var,ytrain,ytest,onehot_cv_var,ycv],cv=1)\n",
    "analysis(xtrain,xtest,xcv,'Variation')"
   ]
  },
  {
   "cell_type": "markdown",
   "metadata": {
    "colab_type": "text",
    "id": "BKlj6P13ySIc"
   },
   "source": [
    "# **Univariate : Text**"
   ]
  },
  {
   "cell_type": "code",
   "execution_count": 185,
   "metadata": {
    "colab": {
     "base_uri": "https://localhost:8080/",
     "height": 34
    },
    "colab_type": "code",
    "id": "6Vh9QUrsyaZ1",
    "outputId": "bb3b1de4-f75d-447f-8dca-c4c397840642"
   },
   "outputs": [],
   "source": [
    "#tfidf.shape\n",
    "#trunc_tfid.shape\n",
    "#Using tfidf\n",
    "Text_vectoriser=TfidfVectorizer()\n",
    "tfidf_train=Text_vectoriser.fit_transform(xtrain['text'])\n",
    "tfidf_test=Text_vectoriser.transform(xtest['text'])\n",
    "tfidf_cv=Text_vectoriser.transform(xcv['text'])\n",
    "svd = TruncatedSVD(n_components=25, n_iter=100, random_state=12)\n",
    "trunctf_train=svd.fit_transform(tfidf_train)\n",
    "trunctf_test=svd.fit_transform(tfidf_test)\n",
    "trunctf_cv=svd.fit_transform(tfidf_cv)"
   ]
  },
  {
   "cell_type": "code",
   "execution_count": 273,
   "metadata": {
    "colab": {
     "base_uri": "https://localhost:8080/",
     "height": 775
    },
    "colab_type": "code",
    "id": "T00oZ0-QIJ-I",
    "outputId": "1de6d72b-7200-4cf2-ac69-468c6c5812e3"
   },
   "outputs": [
    {
     "name": "stdout",
     "output_type": "stream",
     "text": [
      "Log loss for alpha = \"0.0001\" is \"1.8313663884851357\"\n",
      "Log loss for alpha = \"0.001\" is \"1.747932989385219\"\n",
      "Log loss for alpha = \"0.01\" is \"1.7040142033304548\"\n",
      "Log loss for alpha = \"0.1\" is \"1.6791095114787487\"\n",
      "Log loss for alpha = \"1\" is \"1.6772035611237683\"\n",
      "Log loss for alpha = \"10\" is \"1.7099598804648457\"\n",
      "Log loss for alpha = \"100\" is \"1.7299810208968076\"\n",
      "Log loss for alpha = \"1000\" is \"1.7339590271662153\"\n"
     ]
    },
    {
     "data": {
      "image/png": "[encoded data removed]",
      "text/plain": [
       "<Figure size 432x288 with 1 Axes>"
      ]
     },
     "metadata": {
      "needs_background": "light"
     },
     "output_type": "display_data"
    },
    {
     "name": "stdout",
     "output_type": "stream",
     "text": [
      "For values of best alpha =  1 The train log loss is: 1.4245926006669267\n",
      "For values of best alpha =  1 The CV log loss is: 1.6772035611237683\n",
      "For values of best alpha =  1 The test log loss is: 1.5390451486550965\n",
      "(663, 9) 663\n",
      "Total number of data points : 663\n",
      "Number of mis-classified points : 0.661144578313253 \n",
      "\n"
     ]
    },
    {
     "data": {
      "image/png": "[encoded data removed]",
      "text/plain": [
       "<Figure size 432x288 with 2 Axes>"
      ]
     },
     "metadata": {
      "needs_background": "light"
     },
     "output_type": "display_data"
    }
   ],
   "source": [
    "\n",
    "#building singular Model for Text feature -Truncated\n",
    "alpha=[10**x for x in range(-4,4)]\n",
    "\n",
    "log_error=[]\n",
    "for a in alpha:\n",
    "  clf=SGDClassifier(loss='log',alpha=a,random_state=42)\n",
    "  log_e=model_make(clf,trunctf_train,ytrain,trunctf_cv,ycv,log_error)\n",
    "  \n",
    "plot_hyperprm(log_e,alpha,data=[trunctf_train,trunctf_test,ytrain,ytest,trunctf_cv,ycv],cv=1)\n",
    "#analysis(xtrain,xtest,xcv,'Variation')"
   ]
  },
  {
   "cell_type": "code",
   "execution_count": 274,
   "metadata": {
    "colab": {
     "base_uri": "https://localhost:8080/",
     "height": 775
    },
    "colab_type": "code",
    "id": "qmIB8LXTNOlA",
    "outputId": "1c2b0085-4ae0-470c-fd3c-30b4e943d317"
   },
   "outputs": [
    {
     "name": "stdout",
     "output_type": "stream",
     "text": [
      "Log loss for alpha = \"500\" is \"1.66632466375166\"\n",
      "Log loss for alpha = \"1000\" is \"1.6587696299994843\"\n",
      "Log loss for alpha = \"1500\" is \"1.6606972856256352\"\n",
      "Log loss for alpha = \"2000\" is \"1.661501386920355\"\n"
     ]
    },
    {
     "data": {
      "image/png": "[encoded data removed]",
      "text/plain": [
       "<Figure size 432x288 with 1 Axes>"
      ]
     },
     "metadata": {
      "needs_background": "light"
     },
     "output_type": "display_data"
    },
    {
     "name": "stdout",
     "output_type": "stream",
     "text": [
      "For values of best alpha =  1000 The train log loss is: 1.10860662262339\n",
      "For values of best alpha =  1000 The CV log loss is: 1.6676580631609428\n",
      "For values of best alpha =  1000 The test log loss is: 1.592058159472696\n",
      "(663, 9) 663\n",
      "Total number of data points : 663\n",
      "Number of mis-classified points : 0.6566265060240963 \n",
      "\n"
     ]
    },
    {
     "data": {
      "image/png": "[encoded data removed]",
      "text/plain": [
       "<Figure size 432x288 with 2 Axes>"
      ]
     },
     "metadata": {
      "needs_background": "light"
     },
     "output_type": "display_data"
    }
   ],
   "source": [
    "#building singular Model for text feature truncated random forest\n",
    "alpha=[500,1000,1500,2000]\n",
    "\n",
    "log_error=[]\n",
    "\n",
    "for a in alpha:\n",
    "  clf=RandomForestClassifier(n_estimators=a, max_depth=5)\n",
    "  log_e=model_make(clf,trunctf_train,ytrain,trunctf_cv,ycv,log_error)\n",
    "clf=RandomForestClassifier(n_estimators=alpha[np.argmin(log_e)], max_depth=5,random_state=42)\n",
    "plot_hyperprm(log_e,alpha,data=[trunctf_train,trunctf_test,ytrain,ytest,trunctf_cv,ycv],cv=1,clf=clf)"
   ]
  },
  {
   "cell_type": "code",
   "execution_count": 345,
   "metadata": {
    "colab": {
     "base_uri": "https://localhost:8080/",
     "height": 775
    },
    "colab_type": "code",
    "id": "_8-Hvj80Nemg",
    "outputId": "8f17d827-c744-4f06-b59f-2aeced1fc31b"
   },
   "outputs": [
    {
     "name": "stdout",
     "output_type": "stream",
     "text": [
      "Log loss for alpha = \"0.0001\" is \"1.0539363188239104\"\n",
      "Log loss for alpha = \"0.001\" is \"1.1248321967120805\"\n",
      "Log loss for alpha = \"0.01\" is \"1.3027630589173036\"\n",
      "Log loss for alpha = \"0.1\" is \"1.5450241775317402\"\n",
      "Log loss for alpha = \"1\" is \"1.6097613509850615\"\n",
      "Log loss for alpha = \"10\" is \"1.616696381616254\"\n",
      "Log loss for alpha = \"100\" is \"1.6175237769219828\"\n",
      "Log loss for alpha = \"1000\" is \"1.6176738413093725\"\n"
     ]
    },
    {
     "data": {
      "image/png": "[encoded data removed]",
      "text/plain": [
       "<Figure size 432x288 with 1 Axes>"
      ]
     },
     "metadata": {
      "needs_background": "light"
     },
     "output_type": "display_data"
    },
    {
     "name": "stdout",
     "output_type": "stream",
     "text": [
      "For values of best alpha =  0.0001 The train log loss is: 0.6775248386637014\n",
      "For values of best alpha =  0.0001 The CV log loss is: 1.0539363188239104\n",
      "For values of best alpha =  0.0001 The test log loss is: 1.0061614257325877\n",
      "Total number of data points : 663\n",
      "Number of mis-classified points : 0.35843373493975905 \n",
      "\n",
      "Wall time: 41.5 s\n"
     ]
    },
    {
     "data": {
      "image/png": "[encoded data removed]",
      "text/plain": [
       "<Figure size 432x288 with 2 Axes>"
      ]
     },
     "metadata": {
      "needs_background": "light"
     },
     "output_type": "display_data"
    }
   ],
   "source": [
    "%%time\n",
    "#building singular Model for Text feature with tfidf\n",
    "alpha=[10**x for x in range(-4,4)]\n",
    "\n",
    "log_error=[]\n",
    "for a in alpha:\n",
    "  clf=SGDClassifier(loss='log',alpha=a,random_state=42)\n",
    "  log_e=model_make(clf,tfidf_train,ytrain,tfidf_cv,ycv,log_error)\n",
    "  \n",
    "plot_hyperprm(log_error,alpha,data=[tfidf_train,tfidf_test,ytrain,ytest,tfidf_cv,ycv],cv=1)\n",
    "#analysis(xtrain,xtest,xcv,'Variation')"
   ]
  },
  {
   "cell_type": "markdown",
   "metadata": {
    "colab_type": "text",
    "id": "BzpVcVlWQ4A6"
   },
   "source": [
    "# Model Building"
   ]
  },
  {
   "cell_type": "code",
   "execution_count": 189,
   "metadata": {},
   "outputs": [
    {
     "name": "stdout",
     "output_type": "stream",
     "text": [
      "Gene:\n",
      "  train :(1989, 222) \t cv:(664, 222) \t test:(663, 222)\n",
      "\n",
      "Variation:\n",
      "  train :(1989, 1851) \t cv:(664, 1851) \t test:(663, 1851)\n",
      "\n",
      "Text:\n",
      "  train :(1989, 122331) \t cv:(664, 122331) \t test:(663, 122331)\n",
      "\n"
     ]
    }
   ],
   "source": [
    "print('Gene:\\n  train :{} \\t cv:{} \\t test:{}\\n'.format(onehot_train_gene.shape,onehot_cv_gene.shape,onehot_test_gene.shape))\n",
    "print('Variation:\\n  train :{} \\t cv:{} \\t test:{}\\n'.format(onehot_train_var.shape,onehot_cv_var.shape,onehot_test_var.shape))\n",
    "print('Text:\\n  train :{} \\t cv:{} \\t test:{}\\n'.format(tfidf_train.shape,tfidf_cv.shape,tfidf_test.shape))"
   ]
  },
  {
   "cell_type": "code",
   "execution_count": null,
   "metadata": {},
   "outputs": [],
   "source": []
  },
  {
   "cell_type": "code",
   "execution_count": 190,
   "metadata": {
    "colab": {
     "base_uri": "https://localhost:8080/",
     "height": 178
    },
    "colab_type": "code",
    "id": "vM6K59XrQEHQ",
    "outputId": "d2e5e5cf-ad28-435a-cc6f-5f7437a84257"
   },
   "outputs": [],
   "source": [
    "#Step 1 : Combining data set\n",
    "\n",
    "#train=onehot_train_gene+onehot_train_var+tfidf_train\n",
    "\n",
    "#gene_var=np.hstack((onehot_train_gene,onehot_train_var))\n",
    "\n",
    "genevar=hstack((onehot_train_gene,onehot_train_var))\n",
    "x_train=hstack((genevar,tfidf_train)).tocsr()\n",
    "y_train=np.array(ytrain)\n",
    "\n",
    "genevar=hstack((onehot_cv_gene,onehot_cv_var))\n",
    "x_cv=hstack((genevar,tfidf_cv)).tocsr()\n",
    "y_cv=np.array(ycv)\n",
    "\n",
    "genevar=hstack((onehot_test_gene,onehot_test_var))\n",
    "x_test=hstack((genevar,tfidf_test.shape)).tocsr()\n",
    "y_test=np.array(ytest)"
   ]
  },
  {
   "cell_type": "code",
   "execution_count": 192,
   "metadata": {},
   "outputs": [
    {
     "name": "stdout",
     "output_type": "stream",
     "text": [
      "xtrain:(1989, 124404) \t xcv:(664, 124404) \t xtest:(663, 124404) \n",
      "\n"
     ]
    }
   ],
   "source": [
    "\n",
    "print('xtrain:{} \\t xcv:{} \\t xtest:{} \\n'.format(x_train.shape,x_cv.shape,x_test.shape))"
   ]
  },
  {
   "cell_type": "code",
   "execution_count": 276,
   "metadata": {
    "colab": {},
    "colab_type": "code",
    "id": "DDoNp95UGhsv"
   },
   "outputs": [
    {
     "name": "stdout",
     "output_type": "stream",
     "text": [
      "Log loss for alpha = \"0.0001\" is \"0.9878707455016754\"\n",
      "Log loss for alpha = \"0.001\" is \"1.026561412506568\"\n",
      "Log loss for alpha = \"0.01\" is \"1.1751642113109382\"\n",
      "Log loss for alpha = \"0.1\" is \"1.3945076928524998\"\n",
      "Log loss for alpha = \"1\" is \"1.4909075091722737\"\n",
      "Log loss for alpha = \"10\" is \"1.504086466364456\"\n",
      "Log loss for alpha = \"100\" is \"1.5056486254620636\"\n",
      "Log loss for alpha = \"1000\" is \"1.5059225458165684\"\n"
     ]
    },
    {
     "data": {
      "image/png": "[encoded data removed]",
      "text/plain": [
       "<Figure size 432x288 with 1 Axes>"
      ]
     },
     "metadata": {
      "needs_background": "light"
     },
     "output_type": "display_data"
    },
    {
     "name": "stdout",
     "output_type": "stream",
     "text": [
      "For values of best alpha =  0.0001 The train log loss is: 0.42198018425463973\n",
      "For values of best alpha =  0.0001 The CV log loss is: 0.9878707455016754\n",
      "For values of best alpha =  0.0001 The test log loss is: 1.2958962523676238\n",
      "(663, 9) 663\n",
      "Total number of data points : 663\n",
      "Number of mis-classified points : 0.34036144578313254 \n",
      "\n"
     ]
    },
    {
     "data": {
      "image/png": "[encoded data removed]",
      "text/plain": [
       "<Figure size 432x288 with 2 Axes>"
      ]
     },
     "metadata": {
      "needs_background": "light"
     },
     "output_type": "display_data"
    }
   ],
   "source": [
    "#Weighted Logistic Regression\n",
    "alpha=[10**x for x in range(-4,4)]\n",
    "\n",
    "log_error=[]\n",
    "\n",
    "for a in alpha:\n",
    "  clf=SGDClassifier(loss='log',alpha=a,random_state=42,class_weight='balanced')\n",
    "  log_error=model_make(clf,x_train,y_train,x_cv,y_cv,log_error)\n",
    "\n",
    "clf=SGDClassifier(loss='log',alpha=alpha[np.argmin(log_error)],random_state=42,class_weight='balanced')\n",
    "plot_hyperprm(log_error,alpha,data=[x_train,x_test,y_train,y_test,x_cv,y_cv],cv=1,clf=clf)\n"
   ]
  },
  {
   "cell_type": "code",
   "execution_count": null,
   "metadata": {},
   "outputs": [],
   "source": []
  },
  {
   "cell_type": "code",
   "execution_count": 277,
   "metadata": {},
   "outputs": [
    {
     "name": "stdout",
     "output_type": "stream",
     "text": [
      "Log loss for alpha = \"0.0001\" is \"1.0433629804666724\"\n",
      "Log loss for alpha = \"0.001\" is \"1.079905654638363\"\n",
      "Log loss for alpha = \"0.01\" is \"1.2491122902524285\"\n",
      "Log loss for alpha = \"0.1\" is \"1.4402713037520933\"\n",
      "Log loss for alpha = \"1\" is \"1.5061478966828694\"\n",
      "Log loss for alpha = \"10\" is \"1.5061479121098384\"\n",
      "Log loss for alpha = \"100\" is \"1.5061478976281681\"\n",
      "Log loss for alpha = \"1000\" is \"1.5061194025237128\"\n"
     ]
    },
    {
     "data": {
      "image/png": "[encoded data removed]",
      "text/plain": [
       "<Figure size 432x288 with 1 Axes>"
      ]
     },
     "metadata": {
      "needs_background": "light"
     },
     "output_type": "display_data"
    },
    {
     "name": "stdout",
     "output_type": "stream",
     "text": [
      "For values of best alpha =  0.0001 The train log loss is: 0.4001257691280621\n",
      "For values of best alpha =  0.0001 The CV log loss is: 1.0433629804666724\n",
      "For values of best alpha =  0.0001 The test log loss is: 1.3808410175467511\n",
      "(663, 9) 663\n",
      "Total number of data points : 663\n",
      "Number of mis-classified points : 0.3569277108433735 \n",
      "\n"
     ]
    },
    {
     "data": {
      "image/png": "[encoded data removed]",
      "text/plain": [
       "<Figure size 432x288 with 2 Axes>"
      ]
     },
     "metadata": {
      "needs_background": "light"
     },
     "output_type": "display_data"
    }
   ],
   "source": [
    "#LinearSVM\n",
    "\n",
    "alpha=[10**x for x in range(-4,4)]\n",
    "log_error=[]\n",
    "for a in alpha:\n",
    "    clf = SGDClassifier( class_weight='balanced', alpha=a, penalty='l2', loss='hinge', random_state=42)\n",
    "    log_e=model_make(clf,x_train,y_train,x_cv,y_cv,log_error)\n",
    "clf=SGDClassifier(class_weight='balanced',alpha=alpha[np.argmin(log_e)],loss='hinge',random_state=42)\n",
    "plot_hyperprm(log_e,alpha,data=[x_train,x_test,y_train,y_test,x_cv,y_cv],cv=1,clf=clf)\n",
    "\n"
   ]
  },
  {
   "cell_type": "code",
   "execution_count": 337,
   "metadata": {},
   "outputs": [
    {
     "name": "stdout",
     "output_type": "stream",
     "text": [
      "Depth: 5 Estimators: 500\n",
      "Log loss for alpha = \"500\" is \"1.1757889154627554\"\n",
      "Depth: 10 Estimators: 500\n",
      "Log loss for alpha = \"500\" is \"1.0944218207028897\"\n",
      "Depth: 5 Estimators: 1000\n",
      "Log loss for alpha = \"1000\" is \"1.164294664949823\"\n",
      "Depth: 10 Estimators: 1000\n",
      "Log loss for alpha = \"1000\" is \"1.095344485997923\"\n",
      "For values of best alpha =  1000 The train log loss is: 0.6782768806203672\n",
      "For values of best alpha =  1000 The CV log loss is: 1.0971148246995752\n",
      "For values of best alpha =  1000 The test log loss is: 2.070799315781042\n",
      "(663, 9) 663\n",
      "Total number of data points : 663\n",
      "Number of mis-classified points : 0.3373493975903614 \n",
      "\n"
     ]
    },
    {
     "data": {
      "image/png": "[encoded data removed]",
      "text/plain": [
       "<Figure size 432x288 with 2 Axes>"
      ]
     },
     "metadata": {
      "needs_background": "light"
     },
     "output_type": "display_data"
    }
   ],
   "source": [
    "\n",
    "alpha=[500,1000]\n",
    "depth=[5,10]\n",
    "log_error=[]\n",
    "\n",
    "for a in alpha:\n",
    "    for d in depth:\n",
    "      clf=RandomForestClassifier(n_estimators=a, max_depth=d)\n",
    "      print('Depth:',d,'Estimators:',a)\n",
    "      log_e=model_make(clf,x_train,y_train,x_cv,y_cv,log_error)\n",
    "b=np.argmin(log_e)\n",
    "clf=RandomForestClassifier(n_estimators=alpha[int(b/2)], max_depth=depth[int(b%2)],random_state=42)\n",
    "plot_hyperprm(log_e,alpha,data=[x_train,x_test,y_train,y_test,x_cv,y_cv],cv=1,clf=clf,doubleparam=depth)"
   ]
  },
  {
   "cell_type": "code",
   "execution_count": 339,
   "metadata": {},
   "outputs": [
    {
     "name": "stdout",
     "output_type": "stream",
     "text": [
      "Depth: 5 Estimators: 500\n",
      "Log loss for alpha = \"500\" is \"2.0352929570943075\"\n",
      "Depth: 10 Estimators: 500\n",
      "Log loss for alpha = \"500\" is \"1.9959197930307349\"\n",
      "Depth: 5 Estimators: 1000\n",
      "Log loss for alpha = \"1000\" is \"2.0488204222750457\"\n",
      "Depth: 10 Estimators: 1000\n",
      "Log loss for alpha = \"1000\" is \"2.008854818589795\"\n",
      "For values of best alpha =  1000 The train log loss is: 0.6652868407589821\n",
      "For values of best alpha =  1000 The CV log loss is: 2.0047771289581466\n",
      "For values of best alpha =  1000 The test log loss is: 2.1772229368441733\n",
      "Total number of data points : 663\n",
      "Number of mis-classified points : 0.7620481927710844 \n",
      "\n"
     ]
    },
    {
     "data": {
      "image/png": "[encoded data removed]",
      "text/plain": [
       "<Figure size 432x288 with 2 Axes>"
      ]
     },
     "metadata": {
      "needs_background": "light"
     },
     "output_type": "display_data"
    }
   ],
   "source": [
    "svd = TruncatedSVD(n_components=25, n_iter=100, random_state=12)\n",
    "truncx_train=svd.fit_transform(x_train)\n",
    "truncx_test=svd.fit_transform(x_test)\n",
    "truncx_cv=svd.fit_transform(x_cv)\n",
    "\n",
    "alpha=[500,1000]\n",
    "depth=[5,10]\n",
    "log_error=[]\n",
    "\n",
    "for a in alpha:\n",
    "    for d in depth:\n",
    "      clf=RandomForestClassifier(n_estimators=a, max_depth=d)\n",
    "      print('Depth:',d,'Estimators:',a)\n",
    "      log_e=model_make(clf,truncx_train,y_train,truncx_cv,y_cv,log_error)\n",
    "b=np.argmin(log_e)\n",
    "clf=RandomForestClassifier(n_estimators=alpha[int(b/2)], max_depth=depth[int(b%2)],random_state=42)\n",
    "plot_hyperprm(log_e,alpha,data=[truncx_train,truncx_test,y_train,y_test,truncx_cv,y_cv],cv=1,clf=clf,doubleparam=depth)"
   ]
  }
 ],
 "metadata": {
  "colab": {
   "collapsed_sections": [],
   "name": "CancerDetection.ipynb",
   "provenance": [],
   "version": "0.3.2"
  },
  "kernelspec": {
   "display_name": "Python 3",
   "language": "python",
   "name": "python3"
  },
  "language_info": {
   "codemirror_mode": {
    "name": "ipython",
    "version": 3
   },
   "file_extension": ".py",
   "mimetype": "text/x-python",
   "name": "python",
   "nbconvert_exporter": "python",
   "pygments_lexer": "ipython3",
   "version": "3.6.8"
  }
 },
 "nbformat": 4,
 "nbformat_minor": 4
}
